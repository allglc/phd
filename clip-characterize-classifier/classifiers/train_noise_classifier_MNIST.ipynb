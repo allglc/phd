{
 "cells": [
  {
   "cell_type": "code",
   "execution_count": null,
   "metadata": {},
   "outputs": [],
   "source": [
    "import os\n",
    "# os.environ[\"CUDA_VISIBLE_DEVICES\"]=\"1\"\n",
    "from datetime import datetime\n",
    "import matplotlib.pyplot as plt\n",
    "import numpy as np\n",
    "import torch\n",
    "from torch import nn\n",
    "from torch.utils.data import DataLoader, Dataset\n",
    "from torchvision import datasets\n",
    "from torchvision.transforms import ToTensor, Lambda\n",
    "\n",
    "# Custom packages\n",
    "import sys; sys.path.append(os.path.dirname(os.getcwd()))\n",
    "from models import CNN_MNIST\n",
    "from utils import test\n",
    "from imagenet_c import corrupt\n",
    "\n",
    "device = 'cuda' if torch.cuda.is_available() else 'cpu'\n",
    "print(\"Using {} device\".format(device))"
   ]
  },
  {
   "cell_type": "code",
   "execution_count": null,
   "metadata": {},
   "outputs": [],
   "source": [
    "class MNIST_noise(Dataset):\n",
    "    def __init__(self, root, train, transform=None, target_transform=None):\n",
    "        self.corruption = 'gaussian_noise'\n",
    "        mnist = datasets.MNIST(\n",
    "            root='../data',\n",
    "            train=train,\n",
    "            download=False,\n",
    "        )\n",
    "        self.images = mnist.data\n",
    "        self.transform = transform\n",
    "        self.target_transform = target_transform\n",
    "\n",
    "    def __len__(self):\n",
    "        return len(self.images)\n",
    "\n",
    "    def __getitem__(self, idx):\n",
    "        # Load MNIST image\n",
    "        image = self.images[idx, :, :]\n",
    "\n",
    "        # Corrupt image and define label accordingly\n",
    "        severity = np.random.randint(6)\n",
    "        image = np.uint8(image)\n",
    "        if severity > 0:\n",
    "            image = corrupt(image, severity=severity, corruption_name=self.corruption)\n",
    "        label = severity\n",
    "\n",
    "        if self.transform:\n",
    "            image = self.transform(image)\n",
    "        if self.target_transform:\n",
    "            label = self.target_transform(label)\n",
    "        return image, label"
   ]
  },
  {
   "cell_type": "code",
   "execution_count": null,
   "metadata": {},
   "outputs": [],
   "source": [
    "train_data = MNIST_noise(\n",
    "    root='../data',\n",
    "    train=True,\n",
    "    transform=ToTensor()\n",
    ")\n",
    "test_data = MNIST_noise(\n",
    "    root='../data',\n",
    "    train=False,\n",
    "    transform=ToTensor()\n",
    ")\n"
   ]
  },
  {
   "cell_type": "code",
   "execution_count": null,
   "metadata": {},
   "outputs": [],
   "source": [
    "fig = plt.figure(figsize=(8, 8))\n",
    "rows, cols = 3, 3\n",
    "for i in range(1, rows*cols+1):\n",
    "    sample_idx = torch.randint(len(train_data), size=(1,)).item()\n",
    "    img, label = train_data[sample_idx]\n",
    "    fig.add_subplot(rows, cols, i)\n",
    "    plt.title(label)\n",
    "    plt.imshow(img.squeeze(), cmap='gray')\n",
    "    plt.axis('off')"
   ]
  },
  {
   "cell_type": "code",
   "execution_count": null,
   "metadata": {},
   "outputs": [],
   "source": [
    "BATCH_SIZE = 64\n",
    "NB_EPOCHS = 3\n",
    "train_dataloader = DataLoader(train_data, batch_size=BATCH_SIZE)\n",
    "test_dataloader = DataLoader(test_data, batch_size=BATCH_SIZE)"
   ]
  },
  {
   "cell_type": "code",
   "execution_count": null,
   "metadata": {},
   "outputs": [],
   "source": [
    "def train(dataloader, model, loss_function, optimizer):\n",
    "    \n",
    "    model.train()\n",
    "    \n",
    "    size = len(dataloader.dataset)\n",
    "\n",
    "    for batch, (X, y) in enumerate(dataloader):\n",
    "\n",
    "        X, y = X.to(device), y.to(device)\n",
    "        \n",
    "        # Compute prediction and loss\n",
    "        y_pred = model(X)\n",
    "        loss = loss_function(y_pred, y)\n",
    "\n",
    "        # Backpropagation\n",
    "        optimizer.zero_grad()\n",
    "        loss.backward()\n",
    "        optimizer.step()\n",
    "\n",
    "        if batch % 100 == 0:\n",
    "            print('[{}/{}] loss: {}'.format(batch*len(X), size, loss))\n"
   ]
  },
  {
   "cell_type": "code",
   "execution_count": null,
   "metadata": {},
   "outputs": [],
   "source": [
    "model = CNN_MNIST(output_dim=6).to(device)\n",
    "\n",
    "loss_function = nn.CrossEntropyLoss()\n",
    "optimizer = torch.optim.Adam(model.parameters())"
   ]
  },
  {
   "cell_type": "code",
   "execution_count": null,
   "metadata": {},
   "outputs": [],
   "source": [
    "test(test_dataloader, model, loss_function, device)\n",
    "for e in range(1, NB_EPOCHS+1):\n",
    "    print(f'Epoch {e}/{NB_EPOCHS}\\n-------------------')\n",
    "    train(train_dataloader, model, loss_function, optimizer)\n",
    "    test(test_dataloader, model, loss_function, device)"
   ]
  },
  {
   "cell_type": "code",
   "execution_count": null,
   "metadata": {},
   "outputs": [],
   "source": [
    "model.eval()\n",
    "\n",
    "fig = plt.figure(figsize=(8, 8))\n",
    "rows, cols = 3, 3\n",
    "for i in range(1, rows*cols+1):\n",
    "    sample_idx = torch.randint(len(test_data), size=(1,)).item()\n",
    "    img, label = test_data[sample_idx]\n",
    "    with torch.no_grad():\n",
    "        prediction = model(img[None,:,:,:].to(device)).detach().cpu()\n",
    "        predicted_label = np.argmax(prediction)\n",
    "    fig.add_subplot(rows, cols, i)\n",
    "    plt.title(f'predicted: {predicted_label}; real: {label}')\n",
    "    plt.imshow(img.squeeze(), cmap='gray')\n",
    "    plt.axis('off')"
   ]
  },
  {
   "cell_type": "code",
   "execution_count": null,
   "metadata": {},
   "outputs": [],
   "source": [
    "torch.save(model.state_dict(), f'CNN_noise_MNIST_weights_{datetime.now().strftime(\"%Y%m%d_%H%M\")}.pth')"
   ]
  }
 ],
 "metadata": {
  "interpreter": {
   "hash": "48bb13f6dc1e8ce33d9feddcd1695f81303b36fa9b096227160ee2e101e0653c"
  },
  "kernelspec": {
   "display_name": "Python 3.9.7 ('alc')",
   "language": "python",
   "name": "python3"
  },
  "language_info": {
   "codemirror_mode": {
    "name": "ipython",
    "version": 3
   },
   "file_extension": ".py",
   "mimetype": "text/x-python",
   "name": "python",
   "nbconvert_exporter": "python",
   "pygments_lexer": "ipython3",
   "version": "3.9.7"
  }
 },
 "nbformat": 4,
 "nbformat_minor": 4
}
