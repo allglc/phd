{
 "cells": [
  {
   "cell_type": "code",
   "execution_count": null,
   "metadata": {},
   "outputs": [],
   "source": [
    "import os\n",
    "os.environ[\"CUDA_VISIBLE_DEVICES\"]=\"1\"\n",
    "import numpy as np\n",
    "import pandas as pd\n",
    "import matplotlib.pyplot as plt\n",
    "from tqdm import tqdm\n",
    "import torch\n",
    "from torchvision import datasets\n",
    "from torchvision.transforms import Compose, Resize, Lambda, ToTensor, Grayscale, ToPILImage\n",
    "from torch.utils.data import DataLoader\n",
    "\n",
    "from imagenet_c import corrupt\n",
    "from imagenet_c.corruptions import (\n",
    "    gaussian_noise, shot_noise, impulse_noise, defocus_blur,\n",
    "    glass_blur, motion_blur, zoom_blur, snow, frost, fog,\n",
    "    brightness, contrast, elastic_transform, pixelate, jpeg_compression,\n",
    "    speckle_noise, gaussian_blur, spatter, saturate)\n",
    "from models import MLP, CNN_MNIST\n",
    "from utils import test\n",
    "\n",
    "torch.manual_seed(0)\n",
    "np.random.seed(0)\n",
    "\n",
    "device = 'cuda' if torch.cuda.is_available() else 'cpu'\n",
    "print(\"Using {} device\".format(device))"
   ]
  },
  {
   "cell_type": "code",
   "execution_count": null,
   "metadata": {},
   "outputs": [],
   "source": [
    "# Load corruption functions\n",
    "corruption_tuple = (gaussian_noise, shot_noise, impulse_noise, defocus_blur,\n",
    "                    glass_blur, motion_blur, \n",
    "                    zoom_blur, snow, frost, fog,\n",
    "                    brightness, contrast, elastic_transform, pixelate, jpeg_compression,\n",
    "                    speckle_noise, gaussian_blur, spatter, saturate)\n",
    "\n",
    "corruption_dict = {corr_func.__name__: corr_func for corr_func in corruption_tuple}\n",
    "\n",
    "# Load model\n",
    "# model = MLP().to(device)\n",
    "# model.load_state_dict(torch.load('models/MLP_MNIST_weights_20211124_1035.pth'))\n",
    "# model.eval()\n",
    "model = CNN_MNIST().to(device)\n",
    "model.load_state_dict(torch.load('models/CNN_MNIST_weights_20220411_0826.pth'))\n",
    "model.eval()\n",
    "\n",
    "# Define variables\n",
    "BATCH_SIZE = 64\n"
   ]
  },
  {
   "cell_type": "markdown",
   "metadata": {},
   "source": [
    "# Test classifier accuracy for different corruptions and severities"
   ]
  },
  {
   "cell_type": "code",
   "execution_count": null,
   "metadata": {},
   "outputs": [],
   "source": [
    "df_results = pd.DataFrame(index=['uncorrupted']+list(corruption_dict.keys()), columns=[f'severity={i}' for i in range(1, 6)])\n",
    "\n",
    "# Uncorrupted baseline\n",
    "test_data = datasets.MNIST(\n",
    "                root='data',\n",
    "                train=False,\n",
    "                download=True,\n",
    "                transform=Compose([\n",
    "                    # Resize(244),\n",
    "                    # Grayscale(3), # to RGB\n",
    "                    # corruption_transform,\n",
    "                    ToTensor(),\n",
    "                    # Resize(28),\n",
    "                    # Grayscale(),\n",
    "\n",
    "                ])\n",
    "            )\n",
    "test_dataloader = DataLoader(test_data, batch_size=BATCH_SIZE)\n",
    "_, accuracy = test(test_dataloader, model, torch.nn.CrossEntropyLoss(), device)\n",
    "df_results.loc['uncorrupted', :] = accuracy\n",
    "\n",
    "# Corrupted\n",
    "for corruption in tqdm(corruption_dict.keys()):\n",
    "    \n",
    "    for severity in range(1, 6):\n",
    "\n",
    "        try:\n",
    "\n",
    "            corruption_transform = Lambda(lambda x: corrupt(np.uint8(x), severity=severity, corruption_name=corruption))\n",
    "\n",
    "            test_data = datasets.MNIST(\n",
    "                root='data',\n",
    "                train=False,\n",
    "                download=True,\n",
    "                transform=Compose([\n",
    "                    # Resize(244),\n",
    "                    # Grayscale(3), # to RGB\n",
    "                    corruption_transform,\n",
    "                    ToTensor(),\n",
    "                    # Resize(28),\n",
    "                    # Grayscale(),\n",
    "\n",
    "                ])\n",
    "            )\n",
    "\n",
    "            test_dataloader = DataLoader(test_data, batch_size=BATCH_SIZE)\n",
    "            _, accuracy = test(test_dataloader, model, torch.nn.CrossEntropyLoss(), device)\n",
    "            df_results.loc[corruption, f'severity={severity}'] = accuracy\n",
    "\n",
    "        except:\n",
    "            continue\n",
    "\n",
    "df_results = df_results.dropna()\n",
    "df_results"
   ]
  },
  {
   "cell_type": "markdown",
   "metadata": {},
   "source": [
    "# Visualize corruptions"
   ]
  },
  {
   "cell_type": "code",
   "execution_count": null,
   "metadata": {},
   "outputs": [],
   "source": [
    "valid_corruptions = df_results.index.tolist()\n",
    "\n",
    "test_data = datasets.MNIST(\n",
    "                root='data',\n",
    "                train=False,\n",
    "            )\n",
    "            \n",
    "img = test_data[0][0]\n",
    "img = np.uint8(img)\n",
    "\n",
    "\n",
    "plt.figure(figsize=(30, 10))\n",
    "for i, corruption in enumerate(valid_corruptions):\n",
    "\n",
    "    if corruption == 'uncorrupted':\n",
    "        img_c = img\n",
    "    else:\n",
    "        img_c = corrupt(img, severity=5, corruption_name=corruption)\n",
    "\n",
    "    plt.subplot(1, len(valid_corruptions), i+1)\n",
    "    plt.imshow(img_c, cmap='gray', vmin=0, vmax=255)\n",
    "    plt.axis('off')\n",
    "    plt.title(corruption)"
   ]
  },
  {
   "cell_type": "code",
   "execution_count": null,
   "metadata": {},
   "outputs": [],
   "source": [
    "import torchvision\n",
    "torchvision.transforms.ToTensor()\n",
    "\n",
    "test_data = datasets.MNIST(\n",
    "                root='data',\n",
    "                train=False,\n",
    "            )\n",
    "            \n",
    "img = test_data[0][0]\n",
    "img = np.uint8(img)\n",
    "\n",
    "# img_c = corrupt(img, severity=5, corruption_name='gaussian_noise')\n",
    "img_c = img\n",
    "\n",
    "img_c = torch.from_numpy(img_c).float()\n",
    "img_c = img_c.unsqueeze(0).unsqueeze(0).to(device)\n",
    "model(img_c)"
   ]
  },
  {
   "cell_type": "markdown",
   "metadata": {},
   "source": [
    "# Generate dataset including corruption with random severity"
   ]
  },
  {
   "cell_type": "code",
   "execution_count": null,
   "metadata": {},
   "outputs": [],
   "source": [
    "corruption_transform = Lambda(lambda x: corrupt(np.uint8(x), severity=np.random.randint(1, 6), corruption_name='contrast'))\n",
    "\n",
    "train_data_corrupted = datasets.MNIST(\n",
    "    root='data',\n",
    "    train=True,\n",
    "    download=True,\n",
    "    transform=Compose([\n",
    "        corruption_transform,\n",
    "    ])\n",
    ")\n",
    "\n",
    "img = train_data_corrupted[0][0]\n",
    "img = np.uint8(img)\n",
    "\n",
    "plt.figure()\n",
    "plt.imshow(img, cmap='gray', vmin=0, vmax=255)\n",
    "plt.axis('off')"
   ]
  }
 ],
 "metadata": {
  "interpreter": {
   "hash": "423ab4cb8afc3892d0c8aaa912a899cb5b458da2193e7168c31396154279afba"
  },
  "kernelspec": {
   "display_name": "ALC",
   "language": "python",
   "name": "alc"
  },
  "language_info": {
   "codemirror_mode": {
    "name": "ipython",
    "version": 3
   },
   "file_extension": ".py",
   "mimetype": "text/x-python",
   "name": "python",
   "nbconvert_exporter": "python",
   "pygments_lexer": "ipython3",
   "version": "3.9.7"
  }
 },
 "nbformat": 4,
 "nbformat_minor": 4
}
