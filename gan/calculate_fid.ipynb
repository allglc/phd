{
 "cells": [
  {
   "cell_type": "code",
   "execution_count": 1,
   "metadata": {},
   "outputs": [],
   "source": [
    "import os\n",
    "from pathlib import Path\n",
    "import shutil\n",
    "import torch\n",
    "from torch import nn\n",
    "from torchvision import datasets\n",
    "from torchvision.transforms import ToTensor, Normalize\n",
    "from tqdm import tqdm\n",
    "from pytorch_fid.fid_score import calculate_fid_given_paths\n",
    "\n",
    "from models import Generator_28\n",
    "from utils import show_tensor_images, save_image, compute_fid\n",
    "\n",
    "device = 'cuda'\n",
    "num_avail_cpus = len(os.sched_getaffinity(0))\n",
    "\n",
    "path_data = '../../data'\n"
   ]
  },
  {
   "cell_type": "markdown",
   "metadata": {},
   "source": [
    "## MNIST data to .png"
   ]
  },
  {
   "cell_type": "code",
   "execution_count": 2,
   "metadata": {},
   "outputs": [],
   "source": [
    "# mnist_train = datasets.MNIST(\n",
    "#     root=path_data,\n",
    "#     train=True,\n",
    "#     download=False,\n",
    "# )\n",
    "# mnist_test = datasets.MNIST(\n",
    "#     root=path_data,\n",
    "#     train=False,\n",
    "#     download=False,\n",
    "# )\n",
    "\n",
    "# mnist_train_imgs = mnist_train.data[:, None, :, :] / 255 # /255 same as ToTensor()\n",
    "# mnist_train_imgs = (mnist_train_imgs - 0.5) / 0.5 # same as Normalize((0.5,), (0.5,))\n",
    "\n",
    "# mnist_test_imgs = mnist_test.data[:, None, :, :] / 255 # /255 same as ToTensor()\n",
    "# mnist_test_imgs = (mnist_test_imgs - 0.5) / 0.5 # same as Normalize((0.5,), (0.5,))\n",
    "\n",
    "# for i in tqdm(range(len(mnist_train_imgs))):\n",
    "#     save_image(mnist_train_imgs[i], path_data+f'/MNIST/png/train/{i}.png')\n",
    "\n",
    "# for i in tqdm(range(len(mnist_test_imgs))):\n",
    "#     save_image(mnist_test_imgs[i], path_data+f'/MNIST/png/test/{i}.png')"
   ]
  },
  {
   "cell_type": "markdown",
   "metadata": {},
   "source": [
    "## MNIST dataset statistics to .npz (to load when computing FID)"
   ]
  },
  {
   "cell_type": "code",
   "execution_count": 3,
   "metadata": {},
   "outputs": [],
   "source": [
    "# from pytorch_fid.fid_score import save_fid_stats\n",
    "\n",
    "# path_mnist_png = path_data+f'/MNIST/png/test'\n",
    "# path_mnist_npz = path_data+f'/MNIST/stats_test.npz'\n",
    "\n",
    "# save_fid_stats([path_mnist_png, path_mnist_npz], 64, device, 2048, 1)\n"
   ]
  },
  {
   "cell_type": "markdown",
   "metadata": {},
   "source": [
    "## Load Generator"
   ]
  },
  {
   "cell_type": "code",
   "execution_count": 4,
   "metadata": {},
   "outputs": [
    {
     "data": {
      "text/plain": [
       "Generator_28(\n",
       "  (gen): Sequential(\n",
       "    (0): Sequential(\n",
       "      (0): ConvTranspose2d(74, 256, kernel_size=(3, 3), stride=(2, 2))\n",
       "      (1): BatchNorm2d(256, eps=1e-05, momentum=0.1, affine=True, track_running_stats=True)\n",
       "      (2): ReLU()\n",
       "    )\n",
       "    (1): Sequential(\n",
       "      (0): ConvTranspose2d(256, 128, kernel_size=(4, 4), stride=(1, 1))\n",
       "      (1): BatchNorm2d(128, eps=1e-05, momentum=0.1, affine=True, track_running_stats=True)\n",
       "      (2): ReLU()\n",
       "    )\n",
       "    (2): Sequential(\n",
       "      (0): ConvTranspose2d(128, 64, kernel_size=(3, 3), stride=(2, 2))\n",
       "      (1): BatchNorm2d(64, eps=1e-05, momentum=0.1, affine=True, track_running_stats=True)\n",
       "      (2): ReLU()\n",
       "    )\n",
       "    (3): Sequential(\n",
       "      (0): ConvTranspose2d(64, 1, kernel_size=(4, 4), stride=(2, 2))\n",
       "      (1): Tanh()\n",
       "    )\n",
       "  )\n",
       ")"
      ]
     },
     "execution_count": 4,
     "metadata": {},
     "output_type": "execute_result"
    }
   ],
   "source": [
    "# fname = './models/DCGAN_corrupted_MNIST_weights_20211208_1838.pth'\n",
    "# fname = './models/DCGAN_MNIST_weights_20211208_1819.pth' # FID 14.15_WRONG - 10.59, 10.35, 10.44, 10.34\n",
    "fname = './models/DCGAN_conditional_MNIST_weights_20211208_1741.pth' # FID 9.02_WRONG 5.02, 5.14\n",
    "\n",
    "conditional = True if 'conditional' in fname else False\n",
    "\n",
    "z_dim = 64\n",
    "n_classes = 10 if conditional else 0\n",
    "generator_input_dim = z_dim + n_classes\n",
    "\n",
    "gen = Generator_28(generator_input_dim).to(device)\n",
    "gen.load_state_dict(torch.load(fname))\n",
    "gen.eval()"
   ]
  },
  {
   "cell_type": "code",
   "execution_count": 5,
   "metadata": {},
   "outputs": [
    {
     "name": "stderr",
     "output_type": "stream",
     "text": [
      "Generate and save images: 100%|██████████| 10/10 [00:04<00:00,  2.21it/s]\n"
     ]
    },
    {
     "name": "stdout",
     "output_type": "stream",
     "text": [
      "Compute FID\n"
     ]
    },
    {
     "name": "stderr",
     "output_type": "stream",
     "text": [
      "100%|██████████| 469/469 [01:34<00:00,  4.97it/s]\n",
      "100%|██████████| 79/79 [00:17<00:00,  4.58it/s]\n"
     ]
    },
    {
     "name": "stdout",
     "output_type": "stream",
     "text": [
      "FID: 4.92\n",
      "CPU times: user 8min 30s, sys: 8min 55s, total: 17min 26s\n",
      "Wall time: 5min 52s\n"
     ]
    }
   ],
   "source": [
    "%%time\n",
    "path_mnist_png = path_data+f'/MNIST/png/train'\n",
    "fid = compute_fid(gen, conditional, n_classes, path_mnist_png)"
   ]
  },
  {
   "cell_type": "code",
   "execution_count": 6,
   "metadata": {},
   "outputs": [
    {
     "name": "stderr",
     "output_type": "stream",
     "text": [
      "Generate and save images: 100%|██████████| 10/10 [00:04<00:00,  2.28it/s]\n"
     ]
    },
    {
     "name": "stdout",
     "output_type": "stream",
     "text": [
      "Compute FID\n"
     ]
    },
    {
     "name": "stderr",
     "output_type": "stream",
     "text": [
      "100%|██████████| 79/79 [00:17<00:00,  4.56it/s]\n"
     ]
    },
    {
     "name": "stdout",
     "output_type": "stream",
     "text": [
      "FID: 5.04\n",
      "CPU times: user 5min 26s, sys: 6min 17s, total: 11min 44s\n",
      "Wall time: 3min 13s\n"
     ]
    }
   ],
   "source": [
    "%%time\n",
    "path_mnist_npz = path_data+f'/MNIST/stats_train.npz'\n",
    "fid = compute_fid(gen, conditional, n_classes, path_mnist_npz)"
   ]
  },
  {
   "cell_type": "markdown",
   "metadata": {},
   "source": [
    "## Generate and save images"
   ]
  },
  {
   "cell_type": "code",
   "execution_count": 5,
   "metadata": {},
   "outputs": [
    {
     "name": "stderr",
     "output_type": "stream",
     "text": [
      "Generate and save images: 100%|██████████| 10/10 [00:04<00:00,  2.28it/s]\n"
     ]
    },
    {
     "data": {
      "image/png": "[encoded data removed]",
      "text/plain": [
       "<Figure size 432x288 with 1 Axes>"
      ]
     },
     "metadata": {
      "needs_background": "light"
     },
     "output_type": "display_data"
    }
   ],
   "source": [
    "# nb_images_to_generate = 10000\n",
    "# batch_size = nb_images_to_generate\n",
    "# noise = torch.randn(batch_size, z_dim, 1, 1, device=device)\n",
    "# label = torch.randint(0, 10, (batch_size, ))\n",
    "\n",
    "# if conditional:\n",
    "#     one_hot_labels = nn.functional.one_hot(label.to(device), n_classes)[:,:,None,None]\n",
    "#     noise = torch.cat((noise.float(), one_hot_labels.float()), dim=1)\n",
    "# with torch.no_grad():\n",
    "#     fake = gen(noise).detach().cpu()\n",
    "\n",
    "# show_tensor_images(fake) # show a few images\n",
    "\n",
    "# Path('/d/alecoz/projects/data/.temp').mkdir() # create directory\n",
    "# for i in tqdm(range(len(fake))):\n",
    "#     vutils.save_image(fake[i], f'/d/alecoz/projects/data/.temp/{i}.png')\n",
    "    \n",
    "nb_images_to_generate = 10000\n",
    "batch_size = 1024\n",
    "\n",
    "path_temp = Path('./temp')\n",
    "if path_temp.exists(): shutil.rmtree(path_temp)\n",
    "path_temp.mkdir() # create temporary directory\n",
    "\n",
    "img_idx = 0\n",
    "nb_batchs = nb_images_to_generate // batch_size\n",
    "for i in tqdm(range(nb_batchs + 1), 'Generate and save images'):\n",
    "\n",
    "    if i == nb_batchs: batch_size = nb_images_to_generate % batch_size # handle last batch\n",
    "\n",
    "    # Create inputs\n",
    "    noise = torch.randn(batch_size, gen.z_dim, 1, 1, device=device)\n",
    "\n",
    "    if conditional:\n",
    "        label = torch.randint(0, n_classes, (batch_size, ))\n",
    "        one_hot_labels = nn.functional.one_hot(label.to(device), n_classes)[:,:,None,None]\n",
    "        noise = torch.cat((noise[:, :gen.z_dim-n_classes, :, :].float(), one_hot_labels.float()), dim=1)\n",
    "\n",
    "    # Generate images\n",
    "    with torch.no_grad():\n",
    "        fake = gen(noise).detach().cpu()\n",
    "\n",
    "    # Save images in temporary folder\n",
    "    for fake_idx in range(len(fake)):\n",
    "        save_image(fake[fake_idx], path_temp/f'{img_idx}.png')\n",
    "        img_idx += 1\n",
    "        \n",
    "show_tensor_images(fake) # show a few images"
   ]
  },
  {
   "cell_type": "markdown",
   "metadata": {},
   "source": [
    "## Compute FID\n",
    "Baseline (FID of MNIST train vs MNIST test): 1.005"
   ]
  },
  {
   "cell_type": "code",
   "execution_count": 6,
   "metadata": {},
   "outputs": [
    {
     "name": "stderr",
     "output_type": "stream",
     "text": [
      "100%|██████████| 1200/1200 [01:09<00:00, 17.33it/s]\n",
      "100%|██████████| 200/200 [00:13<00:00, 15.02it/s]\n"
     ]
    },
    {
     "name": "stdout",
     "output_type": "stream",
     "text": [
      "FID: 5.14\n"
     ]
    }
   ],
   "source": [
    "fid = calculate_fid_given_paths(\n",
    "    paths=[path_data+f'/MNIST/png/train', str(path_temp)], \n",
    "    batch_size=50,\n",
    "    device='cuda',\n",
    "    dims=2048,\n",
    "    num_workers=min(num_avail_cpus, 8))\n",
    "print('FID: {:.2f}'.format(fid))\n",
    "\n",
    "# shutil.rmtree('/d/alecoz/projects/data/.temp') # remove temporary directory\n",
    "# shutil.rmtree(path_temp) # remove temporary directory"
   ]
  },
  {
   "cell_type": "code",
   "execution_count": 7,
   "metadata": {},
   "outputs": [
    {
     "name": "stderr",
     "output_type": "stream",
     "text": [
      "100%|██████████| 1200/1200 [01:09<00:00, 17.30it/s]\n",
      "100%|██████████| 200/200 [00:13<00:00, 15.09it/s]\n"
     ]
    },
    {
     "name": "stdout",
     "output_type": "stream",
     "text": [
      "FID: 1.01\n"
     ]
    }
   ],
   "source": [
    "fid = calculate_fid_given_paths(\n",
    "    paths=[path_data+f'/MNIST/png/train', path_data+f'/MNIST/png/test'], \n",
    "    batch_size=50,\n",
    "    device='cuda',\n",
    "    dims=2048,\n",
    "    num_workers=min(num_avail_cpus, 8))\n",
    "print('FID: {:.2f}'.format(fid))\n",
    "\n",
    "# shutil.rmtree('/d/alecoz/projects/data/.temp') # remove temporary directory\n",
    "# shutil.rmtree(path_temp) # remove temporary directory"
   ]
  },
  {
   "cell_type": "code",
   "execution_count": 8,
   "metadata": {},
   "outputs": [
    {
     "data": {
      "text/plain": [
       "1.0050802249229775"
      ]
     },
     "execution_count": 8,
     "metadata": {},
     "output_type": "execute_result"
    }
   ],
   "source": [
    "fid"
   ]
  },
  {
   "cell_type": "code",
   "execution_count": null,
   "metadata": {},
   "outputs": [],
   "source": []
  }
 ],
 "metadata": {
  "interpreter": {
   "hash": "916dbcbb3f70747c44a77c7bcd40155683ae19c65e1c03b4aa3499c5328201f1"
  },
  "kernelspec": {
   "display_name": "my-pipenv",
   "language": "python",
   "name": "my-pipenv"
  },
  "language_info": {
   "codemirror_mode": {
    "name": "ipython",
    "version": 3
   },
   "file_extension": ".py",
   "mimetype": "text/x-python",
   "name": "python",
   "nbconvert_exporter": "python",
   "pygments_lexer": "ipython3",
   "version": "3.9.7"
  }
 },
 "nbformat": 4,
 "nbformat_minor": 4
}
