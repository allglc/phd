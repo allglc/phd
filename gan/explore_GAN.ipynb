{
 "cells": [
  {
   "cell_type": "code",
   "execution_count": 1,
   "metadata": {},
   "outputs": [],
   "source": [
    "import torch\n",
    "import numpy as np\n",
    "import torchvision.utils as vutils\n",
    "import matplotlib.pyplot as plt\n",
    "from torch import nn\n",
    "\n",
    "from models import Generator_28, Discriminator_28, CNN_MNIST\n",
    "\n",
    "device = 'cuda'\n"
   ]
  },
  {
   "cell_type": "code",
   "execution_count": 2,
   "metadata": {},
   "outputs": [
    {
     "data": {
      "text/plain": [
       "Generator_28(\n",
       "  (gen): Sequential(\n",
       "    (0): Sequential(\n",
       "      (0): ConvTranspose2d(64, 256, kernel_size=(3, 3), stride=(2, 2))\n",
       "      (1): BatchNorm2d(256, eps=1e-05, momentum=0.1, affine=True, track_running_stats=True)\n",
       "      (2): ReLU()\n",
       "    )\n",
       "    (1): Sequential(\n",
       "      (0): ConvTranspose2d(256, 128, kernel_size=(4, 4), stride=(1, 1))\n",
       "      (1): BatchNorm2d(128, eps=1e-05, momentum=0.1, affine=True, track_running_stats=True)\n",
       "      (2): ReLU()\n",
       "    )\n",
       "    (2): Sequential(\n",
       "      (0): ConvTranspose2d(128, 64, kernel_size=(3, 3), stride=(2, 2))\n",
       "      (1): BatchNorm2d(64, eps=1e-05, momentum=0.1, affine=True, track_running_stats=True)\n",
       "      (2): ReLU()\n",
       "    )\n",
       "    (3): Sequential(\n",
       "      (0): ConvTranspose2d(64, 1, kernel_size=(4, 4), stride=(2, 2))\n",
       "      (1): Tanh()\n",
       "    )\n",
       "  )\n",
       ")"
      ]
     },
     "execution_count": 2,
     "metadata": {},
     "output_type": "execute_result"
    }
   ],
   "source": [
    "# fname = './models/DCGAN_conditional_MNIST_weights_20211208_1741.pth'\n",
    "# fname = './models/DCGAN_conditional_corrupted_MNIST_weights_20211208_1800.pth'\n",
    "fname = './models/DCGAN_corrupted_MNIST_weights_20211208_1838.pth'\n",
    "conditional = True if 'conditional' in fname else False\n",
    "\n",
    "z_dim = 64\n",
    "n_classes = 10 if conditional else 0\n",
    "generator_input_dim = z_dim + n_classes\n",
    "\n",
    "gen = Generator_28(generator_input_dim).to(device)\n",
    "gen.load_state_dict(torch.load(fname))\n",
    "gen.eval()"
   ]
  },
  {
   "cell_type": "markdown",
   "metadata": {},
   "source": [
    "## Interpolate between 2 samples"
   ]
  },
  {
   "cell_type": "code",
   "execution_count": 3,
   "metadata": {},
   "outputs": [
    {
     "name": "stderr",
     "output_type": "stream",
     "text": [
      "Clipping input data to the valid range for imshow with RGB data ([0..1] for floats or [0..255] for integers).\n"
     ]
    },
    {
     "data": {
      "text/plain": [
       "<matplotlib.image.AxesImage at 0x7f9f834bf160>"
      ]
     },
     "execution_count": 3,
     "metadata": {},
     "output_type": "execute_result"
    },
    {
     "data": {
      "image/png": "[encoded data removed]",
      "text/plain": [
       "<Figure size 1080x1080 with 1 Axes>"
      ]
     },
     "metadata": {
      "needs_background": "light"
     },
     "output_type": "display_data"
    }
   ],
   "source": [
    "noise_1 = torch.randn(1, z_dim, 1, 1, device=device)\n",
    "noise_2 = torch.randn(1, z_dim, 1, 1, device=device)\n",
    "images = []\n",
    "label = torch.tensor([3])\n",
    "\n",
    "for alpha in np.linspace(0, 1, num=8):\n",
    "    noise = (1-alpha)*noise_1 + alpha*noise_2\n",
    "    if conditional:\n",
    "        one_hot_labels = nn.functional.one_hot(label.to(device), n_classes)[:,:,None,None]\n",
    "        noise = torch.cat((noise.float(), one_hot_labels.float()), dim=1)\n",
    "    with torch.no_grad():\n",
    "        fake = gen(noise).detach().cpu()\n",
    "    images.append(fake)\n",
    "\n",
    "images = torch.cat(images, 0)\n",
    "vutils.make_grid(images).permute(1,2,0)\n",
    "\n",
    "plt.figure(figsize=(15,15))\n",
    "plt.axis(\"off\")\n",
    "plt.imshow(vutils.make_grid(images, pad_value=1, nrow=8).permute(1,2,0))"
   ]
  },
  {
   "cell_type": "markdown",
   "metadata": {},
   "source": [
    "## Find noise direction"
   ]
  },
  {
   "cell_type": "code",
   "execution_count": 4,
   "metadata": {},
   "outputs": [],
   "source": [
    "# load noise classifier\n",
    "fname = './models/CNN_noise_MNIST_weights_20211216_1613.pth'\n",
    "noise_predictor = CNN_MNIST(output_dim=6).to(device)\n",
    "noise_predictor.load_state_dict(torch.load(fname))\n",
    "\n",
    "# generate batch of images and get their noise level\n",
    "noise = torch.randn(10000, z_dim, 1, 1, device=device)\n",
    "if conditional:\n",
    "    label = torch.randint(n_classes, size=(len(noise),), dtype=int)\n",
    "    one_hot_labels = nn.functional.one_hot(label.to(device), n_classes)[:,:,None,None]\n",
    "    noise = torch.cat((noise.float(), one_hot_labels.float()), dim=1)\n",
    "with torch.no_grad():\n",
    "    fake = gen(noise).detach()\n",
    "    predictions = noise_predictor(fake).detach().cpu()\n",
    "predicted_labels = np.argmax(predictions, 1)\n",
    "\n",
    "# keep latent codes of images with noise = 1 and 5\n",
    "z_noise_low = noise[predicted_labels == 1].squeeze()\n",
    "z_noise_high = noise[predicted_labels == 5].squeeze()\n",
    "\n",
    "avg_z_noise_low = torch.mean(z_noise_low, axis=0)\n",
    "avg_z_noise_high = torch.mean(z_noise_high, axis=0)\n",
    "\n",
    "# average of latent codes for noisy - average of latent codes for uncorrupted\n",
    "noise_direction = avg_z_noise_high - avg_z_noise_low\n",
    "if conditional: \n",
    "    # noise_direction = torch.cat((noise_direction[:z_dim], torch.zeros((10,), device=device)))\n",
    "    noise_direction = noise_direction[:z_dim] # don't keep class information"
   ]
  },
  {
   "cell_type": "code",
   "execution_count": 5,
   "metadata": {},
   "outputs": [
    {
     "name": "stderr",
     "output_type": "stream",
     "text": [
      "Clipping input data to the valid range for imshow with RGB data ([0..1] for floats or [0..255] for integers).\n"
     ]
    },
    {
     "data": {
      "text/plain": [
       "<matplotlib.image.AxesImage at 0x7f9f8346cac0>"
      ]
     },
     "execution_count": 5,
     "metadata": {},
     "output_type": "execute_result"
    },
    {
     "data": {
      "image/png": "[encoded data removed]",
      "text/plain": [
       "<Figure size 1080x1080 with 1 Axes>"
      ]
     },
     "metadata": {
      "needs_background": "light"
     },
     "output_type": "display_data"
    }
   ],
   "source": [
    "# truncation_threshold = 10 # https://discuss.pytorch.org/t/implementing-truncated-normal-initializer/4778/12\n",
    "# noise_start = torch.fmod(torch.randn(1, z_dim, 1, 1, device=device), truncation_threshold)\n",
    "noise_start = torch.randn(1, z_dim, 1, 1, device=device)\n",
    "images = []\n",
    "label = torch.tensor([8])\n",
    "\n",
    "for alpha in np.linspace(-1, 1, num=9):\n",
    "    noise = noise_start + alpha*noise_direction[None, :, None, None]\n",
    "    if conditional:\n",
    "        one_hot_labels = nn.functional.one_hot(label.to(device), n_classes)[:,:,None,None]\n",
    "        noise = torch.cat((noise.float(), one_hot_labels.float()), dim=1)\n",
    "    with torch.no_grad():\n",
    "        fake = gen(noise).detach().cpu()\n",
    "    images.append(fake)\n",
    "\n",
    "images = torch.cat(images, 0)\n",
    "vutils.make_grid(images).permute(1,2,0)\n",
    "\n",
    "plt.figure(figsize=(15,15))\n",
    "plt.axis(\"off\")\n",
    "plt.imshow(vutils.make_grid(images, pad_value=1, nrow=9).permute(1,2,0))"
   ]
  }
 ],
 "metadata": {
  "interpreter": {
   "hash": "cf0e85ac5c104e7dc18f35eb0f3f17acfc5d19b9cd0ff3830c651a628ffe0833"
  },
  "kernelspec": {
   "display_name": "Python 3.9.7 64-bit ('alc': conda)",
   "language": "python",
   "name": "python3"
  },
  "language_info": {
   "codemirror_mode": {
    "name": "ipython",
    "version": 3
   },
   "file_extension": ".py",
   "mimetype": "text/x-python",
   "name": "python",
   "nbconvert_exporter": "python",
   "pygments_lexer": "ipython3",
   "version": "3.9.7"
  },
  "orig_nbformat": 4
 },
 "nbformat": 4,
 "nbformat_minor": 2
}
