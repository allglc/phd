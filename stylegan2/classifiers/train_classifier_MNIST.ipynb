{
 "cells": [
  {
   "cell_type": "code",
   "execution_count": null,
   "metadata": {},
   "outputs": [],
   "source": [
    "import os\n",
    "# os.environ[\"CUDA_VISIBLE_DEVICES\"]=\"1\"\n",
    "\n",
    "from datetime import datetime\n",
    "from pathlib import Path\n",
    "import matplotlib.pyplot as plt\n",
    "import torch\n",
    "from torch import nn\n",
    "import torch.nn.functional as F\n",
    "from torch.utils.data import DataLoader\n",
    "from torchvision import datasets\n",
    "from torchvision.transforms import ToTensor\n",
    "\n",
    "# Custom packages\n",
    "import sys; sys.path.append(os.path.dirname(os.getcwd()))\n",
    "from models import CNN_MNIST\n",
    "from stylegan2_ada_pytorch.training.dataset import ImageFolderDataset\n",
    "\n",
    "device = 'cuda' if torch.cuda.is_available() else 'cpu'\n",
    "print(\"Using {} device\".format(device))\n",
    "\n",
    "path_data = Path.cwd().parent.parent / 'stylegan2' / 'data'\n",
    "path_results = Path.cwd().parent.parent / 'stylegan2' / 'results'\n",
    "\n",
    "use_stylegan2_dataset = True\n",
    "save = False"
   ]
  },
  {
   "cell_type": "code",
   "execution_count": null,
   "metadata": {},
   "outputs": [],
   "source": [
    "if use_stylegan2_dataset:\n",
    "    dataset_train = 'mnist_stylegan2_blur_noise_maxSeverity3_proba50'\n",
    "    path_dataset = path_data / 'MNIST' / f'{dataset_train}.zip'\n",
    "    train_data = ImageFolderDataset(path_dataset, use_labels=True)\n",
    "\n",
    "    dataset_test = 'mnistTest_stylegan2_blur_noise_maxSeverity3_proba50'\n",
    "    path_dataset = path_data / 'MNIST' / f'{dataset_test}.zip'\n",
    "    test_data = ImageFolderDataset(path_dataset, use_labels=True)\n",
    "\n",
    "else:\n",
    "    train_data = datasets.MNIST(\n",
    "        root='../data',\n",
    "        train=True,\n",
    "        download=True,\n",
    "        transform=ToTensor()\n",
    "    )\n",
    "    test_data = datasets.MNIST(\n",
    "        root='../data',\n",
    "        train=False,\n",
    "        download=True,\n",
    "        transform=ToTensor()\n",
    "    )"
   ]
  },
  {
   "cell_type": "code",
   "execution_count": null,
   "metadata": {},
   "outputs": [],
   "source": [
    "fig = plt.figure(figsize=(8, 8))\n",
    "rows, cols = 3, 3\n",
    "for i in range(1, rows*cols+1):\n",
    "    sample_idx = torch.randint(len(train_data), size=(1,)).item()\n",
    "    img, label = train_data[sample_idx]\n",
    "    fig.add_subplot(rows, cols, i)\n",
    "    plt.title(label)\n",
    "    plt.imshow(img.squeeze(), cmap='gray')\n",
    "    plt.axis('off')"
   ]
  },
  {
   "cell_type": "code",
   "execution_count": null,
   "metadata": {},
   "outputs": [],
   "source": [
    "BATCH_SIZE = 64\n",
    "HIDDEN_DIM = 64\n",
    "NB_EPOCHS = 10\n",
    "train_dataloader = DataLoader(train_data, batch_size=BATCH_SIZE)\n",
    "test_dataloader = DataLoader(test_data, batch_size=BATCH_SIZE)"
   ]
  },
  {
   "cell_type": "code",
   "execution_count": null,
   "metadata": {},
   "outputs": [],
   "source": [
    "def train(dataloader, model, loss_function, optimizer):\n",
    "\n",
    "    model.train()\n",
    "\n",
    "    size = len(dataloader.dataset)\n",
    "\n",
    "    for batch, (X, y) in enumerate(dataloader):\n",
    "\n",
    "        if use_stylegan2_dataset:  \n",
    "            X = (X / 255)[:, :, 2:30, 2:30]\n",
    "            y = y.argmax(1)\n",
    "        X, y = X.to(device), y.to(device)\n",
    "        \n",
    "        # Compute prediction and loss\n",
    "        y_pred = model(X)\n",
    "        loss = loss_function(y_pred, y)\n",
    "\n",
    "        # Backpropagation\n",
    "        optimizer.zero_grad()\n",
    "        loss.backward()\n",
    "        optimizer.step()\n",
    "\n",
    "        if batch % 100 == 0:\n",
    "            print('[{}/{}] loss: {}'.format(batch*len(X), size, loss))\n",
    "\n",
    "            \n",
    "def test(dataloader, model, loss_function, device):\n",
    "\n",
    "    model.eval()\n",
    "\n",
    "    cum_loss, correct_pred = 0, 0\n",
    "    for X, y in dataloader:\n",
    "        \n",
    "        if use_stylegan2_dataset:  \n",
    "            X = (X / 255)[:, :, 2:30, 2:30]\n",
    "            y = y.argmax(1)\n",
    "        X, y = X.to(device), y.to(device)\n",
    "\n",
    "        with torch.no_grad():\n",
    "            # Compute prediction, loss and correct predictions\n",
    "            y_pred = model(X)\n",
    "            loss = loss_function(y_pred, y)\n",
    "            correct = (y_pred.argmax(1) == y).type(torch.float).sum().item()\n",
    "\n",
    "            cum_loss += loss\n",
    "            correct_pred += correct\n",
    "\n",
    "    average_loss = cum_loss / len(dataloader)\n",
    "    average_accuracy = correct_pred / len(dataloader.dataset)\n",
    "\n",
    "    print('Test error: {}\\nAccuracy {}\\n'.format(average_loss, average_accuracy))\n",
    "\n",
    "    return average_loss, average_accuracy"
   ]
  },
  {
   "cell_type": "code",
   "execution_count": null,
   "metadata": {},
   "outputs": [],
   "source": [
    "# model = MLP().to(device)\n",
    "model = CNN_MNIST().to(device)\n",
    "\n",
    "loss_function = nn.CrossEntropyLoss()\n",
    "optimizer = torch.optim.Adam(model.parameters())"
   ]
  },
  {
   "cell_type": "code",
   "execution_count": null,
   "metadata": {},
   "outputs": [],
   "source": [
    "test(test_dataloader, model, loss_function, device)\n",
    "for e in range(1, NB_EPOCHS+1):\n",
    "    print(f'Epoch {e}/{NB_EPOCHS}\\n-------------------')\n",
    "    train(train_dataloader, model, loss_function, optimizer)\n",
    "    test(test_dataloader, model, loss_function, device)"
   ]
  },
  {
   "cell_type": "code",
   "execution_count": null,
   "metadata": {},
   "outputs": [],
   "source": [
    "if save:\n",
    "    save_path = str(path_results / 'classifiers' /  f'CNN_{dataset_train}_{datetime.now().strftime(\"%Y%m%d_%H%M\")}.pth')\n",
    "    torch.save(model.state_dict(), save_path)"
   ]
  },
  {
   "cell_type": "code",
   "execution_count": null,
   "metadata": {},
   "outputs": [],
   "source": [
    "model.eval()\n",
    "\n",
    "fig = plt.figure(figsize=(8, 8))\n",
    "rows, cols = 3, 3\n",
    "for i in range(1, rows*cols+1):\n",
    "    sample_idx = torch.randint(len(test_data), size=(1,)).item()\n",
    "    img, label = test_data[sample_idx]\n",
    "    \n",
    "    if use_stylegan2_dataset:  \n",
    "        img = torch.tensor(img)\n",
    "        x = img.unsqueeze(0).to(device)\n",
    "        x = (x / 255)[:, :, 2:30, 2:30]\n",
    "        label = label.argmax()\n",
    "    else:\n",
    "        x = img.unsqueeze(0).to(device)\n",
    "    proba = int(100*F.softmax(model(x), dim=1)[0, label])\n",
    "    \n",
    "    fig.add_subplot(rows, cols, i)\n",
    "    plt.title(f'{label} pred at {proba}%')\n",
    "    plt.imshow(img.squeeze(), cmap='gray')\n",
    "    plt.axis('off')"
   ]
  }
 ],
 "metadata": {
  "interpreter": {
   "hash": "48bb13f6dc1e8ce33d9feddcd1695f81303b36fa9b096227160ee2e101e0653c"
  },
  "kernelspec": {
   "display_name": "Python 3 (ipykernel)",
   "language": "python",
   "name": "python3"
  },
  "language_info": {
   "codemirror_mode": {
    "name": "ipython",
    "version": 3
   },
   "file_extension": ".py",
   "mimetype": "text/x-python",
   "name": "python",
   "nbconvert_exporter": "python",
   "pygments_lexer": "ipython3",
   "version": "3.9.7"
  }
 },
 "nbformat": 4,
 "nbformat_minor": 4
}
