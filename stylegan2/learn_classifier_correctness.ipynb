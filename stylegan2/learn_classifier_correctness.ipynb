{
 "cells": [
  {
   "cell_type": "code",
   "execution_count": 1,
   "id": "0823894d-aab7-4738-b3fa-77fcf62cea47",
   "metadata": {},
   "outputs": [],
   "source": [
    "import os\n",
    "# os.environ[\"CUDA_VISIBLE_DEVICES\"]=\"0\"\n",
    "\n",
    "import copy\n",
    "import numpy as np\n",
    "from datetime import datetime\n",
    "import matplotlib.pyplot as plt\n",
    "import torch\n",
    "from torch import nn\n",
    "from torch.utils.data import DataLoader, Dataset, Subset\n",
    "from torchvision.models import resnet18, ResNet18_Weights, convnext_tiny, ConvNeXt_Tiny_Weights\n",
    "from torchvision.models.resnet import ResNet\n",
    "from torchvision.models.convnext import ConvNeXt\n",
    "import pytorch_lightning as pl\n",
    "from pytorch_lightning.loggers import TensorBoardLogger\n",
    "from pathlib import Path\n",
    "\n",
    "from classifiers.models import CNN_MNIST\n",
    "from stylegan2_ada_pytorch.training.dataset import ImageFolderDataset\n",
    "from utils import EasyDict\n",
    "\n",
    "\n",
    "torch.manual_seed(0)\n",
    "np.random.seed(0)\n",
    "\n",
    "device = 'cuda' if torch.cuda.is_available() else 'cpu'\n",
    "\n",
    "path_results = Path.cwd().parent / 'results'"
   ]
  },
  {
   "cell_type": "code",
   "execution_count": 2,
   "id": "5d50667a",
   "metadata": {},
   "outputs": [],
   "source": [
    "config = EasyDict()\n",
    "config.dataset = 'mnist_stylegan2_blur_noise_maxSeverity3_proba50'\n",
    "config.task = 'trueClassProba' # trueClassProba binaryClassif\n",
    "config.model = 'ResNet_pretrained' # CNN CNN_pretrained ConvNeXt ConvNeXt_pretrained ResNet ResNet_pretrained\n"
   ]
  },
  {
   "cell_type": "markdown",
   "id": "0ae65ff9-16ee-4225-8454-87076123443a",
   "metadata": {},
   "source": [
    "## Load data and classifier"
   ]
  },
  {
   "cell_type": "code",
   "execution_count": 3,
   "id": "4d620e9c-10d2-41a7-b34a-49e5db6aa5fc",
   "metadata": {},
   "outputs": [
    {
     "data": {
      "image/png": "[encoded data removed]",
      "text/plain": [
       "<Figure size 1500x500 with 3 Axes>"
      ]
     },
     "metadata": {},
     "output_type": "display_data"
    }
   ],
   "source": [
    "# LOAD DATA\n",
    "def load_data(dataset, device):\n",
    "    path_data = Path.cwd().parent / 'data/MNIST' / f'{dataset}.zip'\n",
    "    ds_original = ImageFolderDataset(path_data, use_labels=True)\n",
    "\n",
    "    # LOAD CLASSIFIER\n",
    "\n",
    "    # predict digits\n",
    "    classifier_digits = CNN_MNIST(output_dim=10).to(device)\n",
    "    # classifier_digits.load_state_dict(torch.load(path_results / 'classifiers' / 'CNN_MNIST_weights_20220411_0826.pth', map_location=device)) # Confiance\n",
    "    classifier_digits.load_state_dict(torch.load(path_results / 'classifiers' / 'CNN_MNIST_weights_20220210_1601.pth', map_location=device))\n",
    "    # classifier_digits.load_state_dict(torch.load(path_results / 'classifiers' / 'CNN_mnist_stylegan2_blur_noise_maxSeverity3_proba50_20220510_1124.pth', map_location=device))\n",
    "    classifier_digits.eval()\n",
    "\n",
    "    # predict noise\n",
    "    classifier_noise = CNN_MNIST(output_dim=6).to(device)\n",
    "    # classifier_noise.load_state_dict(torch.load(path_results / 'classifiers' / 'CNN_noise_MNIST_weights_20220411_0841.pth', map_location=device)) # Confiance\n",
    "    classifier_noise.load_state_dict(torch.load(path_results / 'classifiers' / 'CNN_MNIST_noise_weights_20220210_1728.pth', map_location=device))\n",
    "    classifier_noise.eval()\n",
    "\n",
    "    # TEST\n",
    "    n_images = 3\n",
    "    plt.figure(figsize=(15, 5))\n",
    "    for i in range(min(n_images, 5)):\n",
    "\n",
    "        idx = np.random.randint(len(ds_original))\n",
    "        img = ds_original[idx][0]\n",
    "        digit = ds_original[idx][1].argmax()\n",
    "\n",
    "        img = torch.tensor(img, device=device).unsqueeze(0)\n",
    "        img = (img / 255)[:, :, 2:30, 2:30]\n",
    "\n",
    "        digit_pred = classifier_digits(img).argmax(dim=1).cpu()\n",
    "        noise_pred = classifier_noise(img).argmax(dim=1).cpu()\n",
    "\n",
    "        plt.subplot(1, 10, i+1)\n",
    "        plt.imshow(img.cpu().squeeze(), cmap='gray')\n",
    "        plt.title(f'digit: {digit} \\n digit_pred: {digit_pred.numpy()} \\n noise_pred: {noise_pred.numpy()}')\n",
    "        plt.axis('off')\n",
    "\n",
    "    return ds_original, classifier_digits, classifier_noise"
   ]
  },
  {
   "cell_type": "markdown",
   "id": "d162e970-8d59-47a5-8dee-6a1af7046697",
   "metadata": {},
   "source": [
    "## Create dataset with labels wellclassified (1) or misclassified (0)"
   ]
  },
  {
   "cell_type": "code",
   "execution_count": 4,
   "id": "588e1192-a4c7-4021-9e59-052b75e04a0f",
   "metadata": {},
   "outputs": [
    {
     "name": "stdout",
     "output_type": "stream",
     "text": [
      "77.66% of images have high TCP\n",
      "22.34% of images have low TCP\n"
     ]
    }
   ],
   "source": [
    "def create_datasets(task, ds_original, classifier_digits, batch_size=128, train_split=0.8):\n",
    "\n",
    "    if config.task == 'binaryClassif':\n",
    "\n",
    "        # DATASETS\n",
    "\n",
    "        digit_pred = 99*torch.ones((len(ds_original)), dtype=int)\n",
    "        for idx, (x, y) in enumerate(DataLoader(ds_original, batch_size=256)):\n",
    "            x = (x / 255)[:, :, 2:30, 2:30].to(device)\n",
    "            digit_pred[idx*256:(idx+1)*256] = classifier_digits(x).argmax(dim=1).cpu()\n",
    "\n",
    "        idx_positive = np.nonzero(digit_pred.numpy() == ds_original._raw_labels)[0]\n",
    "        idx_negative = np.nonzero(digit_pred.numpy() != ds_original._raw_labels)[0]\n",
    "\n",
    "\n",
    "        # ds_positive = Subset(ds_original, idx_positive)\n",
    "        # ds_negative = Subset(ds_original, idx_negative)\n",
    "\n",
    "        # for x, y in DataLoader(ds_positive, batch_size=256):\n",
    "        #     x = (x / 255)[:, :, 2:30, 2:30].to(device)\n",
    "        #     y_pred = classifier_digits(x).argmax(dim=1).cpu()\n",
    "        #     y = y.argmax(dim=1).cpu()\n",
    "        #     assert all(y == y_pred), 'should be well classified'\n",
    "\n",
    "        # for x, y in DataLoader(ds_negative, batch_size=256): # WEIRD: logits change slightly with different batch sizes (even with model.eval())\n",
    "        #     x = (x / 255)[:, :, 2:30, 2:30].to(device)\n",
    "        #     y_pred = classifier_digits(x).argmax(dim=1).cpu()\n",
    "        #     y = y.argmax(dim=1).cpu()\n",
    "        #     assert all(y != y_pred), 'should be mis classified'\n",
    "\n",
    "        # print('checked that subsets are classified as they should be')\n",
    "\n",
    "        ds_correctness = copy.deepcopy(ds_original)\n",
    "        ds_correctness[0] # somehow need to do this for next lines to work\n",
    "        ds_correctness._label_shape = [2] # 2 classes: correct or incorrect\n",
    "        ds_correctness._raw_labels[idx_positive] = 1\n",
    "        ds_correctness._raw_labels[idx_negative] = 0\n",
    "\n",
    "        print('{:.2f}% of images are correctly classified'.format(100*len(idx_positive)/len(ds_original)))\n",
    "        print('{:.2f}% of images are incorrectly classified'.format(100*len(idx_negative)/len(ds_original)))\n",
    "\n",
    "        \n",
    "    elif config.task == 'trueClassProba':\n",
    "        tcp = 99*torch.ones((len(ds_original)))\n",
    "        for idx, (x, y) in enumerate(DataLoader(ds_original, batch_size=256)):\n",
    "            x = (x / 255)[:, :, 2:30, 2:30].to(device)\n",
    "            with torch.no_grad():\n",
    "                tcp[idx*256:(idx+1)*256] = nn.functional.softmax(classifier_digits(x), dim=1)[y.bool()].cpu()\n",
    "\n",
    "        idx_positive = np.nonzero(tcp.numpy() > 0.9)[0] # indices with high score\n",
    "        idx_negative = np.nonzero(tcp.numpy() <= 0.9)[0] # indices with low score\n",
    "\n",
    "        ds_correctness = copy.deepcopy(ds_original)\n",
    "        ds_correctness[0] # somehow need to do this for next lines to work\n",
    "        ds_correctness._label_shape = [1]\n",
    "        ds_correctness._raw_labels = tcp.numpy()\n",
    "\n",
    "        print('{:.2f}% of images have high TCP'.format(100*len(idx_positive)/len(ds_original)))\n",
    "        print('{:.2f}% of images have low TCP'.format(100*len(idx_negative)/len(ds_original)))\n",
    "\n",
    "\n",
    "    # DATALOADERS\n",
    "\n",
    "    np.random.shuffle(idx_negative)\n",
    "    np.random.shuffle(idx_positive)\n",
    "    idx_negative_train, idx_negative_test = idx_negative[:int(train_split*len(idx_negative))], idx_negative[int(train_split*len(idx_negative)):]\n",
    "    idx_positive_train, idx_positive_test = idx_positive[:int(train_split*len(idx_positive))], idx_positive[int(train_split*len(idx_positive)):]\n",
    "    idx_train = np.concatenate((idx_positive_train, idx_negative_train))\n",
    "    idx_test = np.concatenate((idx_positive_test, idx_negative_test))\n",
    "    ds_correctness_train = Subset(ds_correctness, idx_train)\n",
    "    ds_correctness_test = Subset(ds_correctness, idx_test)\n",
    "\n",
    "    train_dataloader = DataLoader(ds_correctness_train, batch_size=batch_size, shuffle=True) # shuffle NECESSARY!!! because positive and negative are concatenated\n",
    "    test_dataloader = DataLoader(ds_correctness_test, batch_size=batch_size, shuffle=True)\n",
    "\n",
    "    return train_dataloader, test_dataloader"
   ]
  },
  {
   "cell_type": "markdown",
   "id": "8d37d830",
   "metadata": {},
   "source": [
    "## Show examples of well-classified (top) and misclassified (bottom)"
   ]
  },
  {
   "cell_type": "code",
   "execution_count": 5,
   "id": "28b9aeb1",
   "metadata": {},
   "outputs": [
    {
     "data": {
      "image/png": "[encoded data removed]",
      "text/plain": [
       "<Figure size 1500x500 with 5 Axes>"
      ]
     },
     "metadata": {},
     "output_type": "display_data"
    },
    {
     "data": {
      "image/png": "[encoded data removed]",
      "text/plain": [
       "<Figure size 1500x500 with 5 Axes>"
      ]
     },
     "metadata": {},
     "output_type": "display_data"
    }
   ],
   "source": [
    "# # if config.task == 'binaryClassif':\n",
    "# for idx_list in [idx_positive, idx_negative]:\n",
    "#     n_images = 8\n",
    "#     plt.figure(figsize=(15, 5))\n",
    "#     for i in range(min(n_images, 5)):\n",
    "\n",
    "#         idx = np.random.choice(idx_list)\n",
    "#         img = ds_correctness[idx][0]\n",
    "#         digit = ds_correctness[idx][1].argmax()\n",
    "\n",
    "#         img = torch.tensor(img, device=device).unsqueeze(0)\n",
    "#         img = (img / 255)[:, :, 2:30, 2:30]\n",
    "\n",
    "#         digit_pred = classifier_digits(img).argmax(dim=1).cpu()\n",
    "#         noise_pred = classifier_noise(img).argmax(dim=1).cpu()\n",
    "\n",
    "#         plt.subplot(1, 10, i+1)\n",
    "#         plt.imshow(img.cpu().squeeze(), cmap='gray')\n",
    "#         plt.title(f'digit: {digit} \\n digit_pred: {digit_pred.numpy()} \\n noise_pred: {noise_pred.numpy()}')"
   ]
  },
  {
   "cell_type": "markdown",
   "id": "4f3dc47b",
   "metadata": {},
   "source": [
    "# Define module"
   ]
  },
  {
   "cell_type": "code",
   "execution_count": 6,
   "id": "46da5a80",
   "metadata": {},
   "outputs": [],
   "source": [
    "class Model(pl.LightningModule):\n",
    "\n",
    "    def __init__(self, model_name, loss_name, classifier_digits):\n",
    "        super().__init__()\n",
    "\n",
    "        if loss_name == 'CrossEntropyLoss':\n",
    "            output_dim = 2\n",
    "            class_weights = torch.tensor([len(idx_positive)/len(idx_negative), 1], dtype=torch.float)\n",
    "            self.loss_function = nn.CrossEntropyLoss(weight=class_weights)\n",
    "        elif loss_name == 'BCEWithLogitsLoss':\n",
    "            output_dim = 1\n",
    "            self.loss_function = nn.BCEWithLogitsLoss(pos_weight=torch.tensor(len(idx_positive)/len(idx_negative)))\n",
    "        elif loss_name == 'MSELoss':\n",
    "            output_dim = 1\n",
    "            self.loss_function = nn.MSELoss()\n",
    "\n",
    "        if model_name == 'ResNet':\n",
    "            weights = ResNet18_Weights.DEFAULT\n",
    "            self.preprocess = weights.transforms()\n",
    "            self.model = resnet18()\n",
    "            self.model.fc = nn.Linear(512, output_dim, device=device) # replace last layer\n",
    "        elif model_name == 'ResNet_pretrained':\n",
    "            weights = ResNet18_Weights.DEFAULT\n",
    "            self.preprocess = weights.transforms()\n",
    "            self.model = resnet18(weights=weights)\n",
    "            self.model.fc = nn.Linear(512, output_dim, device=device) # replace last layer\n",
    "        elif model_name == 'ConvNeXt':\n",
    "            weights = ConvNeXt_Tiny_Weights.DEFAULT\n",
    "            self.preprocess = weights.transforms()\n",
    "            self.model = convnext_tiny()\n",
    "            self.model.classifier[2] = nn.Linear(768, output_dim) # replace last layer\n",
    "        elif model_name == 'ConvNeXt_pretrained':\n",
    "            weights = ConvNeXt_Tiny_Weights.DEFAULT\n",
    "            self.preprocess = weights.transforms()\n",
    "            self.model = convnext_tiny(weights=weights)\n",
    "            self.model.classifier[2] = nn.Linear(768, output_dim) # replace last layer\n",
    "\n",
    "        elif model_name == 'CNN':\n",
    "            self.model = CNN_MNIST(1, output_dim)\n",
    "        elif model_name == 'CNN_pretrained':\n",
    "            self.model = copy.deepcopy(classifier_digits)\n",
    "            self.model.net[9] = nn.Linear(128, output_dim, device=device) # replace last layer\n",
    "        \n",
    "    def configure_optimizers(self):\n",
    "        return torch.optim.Adam(self.parameters(), lr=1e-3)\n",
    "\n",
    "    def forward(self, x):\n",
    "        if isinstance(self.model, ResNet) or isinstance(self.model, ConvNeXt):\n",
    "            x = self.preprocess(x.expand(-1, 3, -1, -1))\n",
    "        elif isinstance(self.model, CNN_MNIST):\n",
    "            x = (x / 255.)[:, :, 2:30, 2:30]\n",
    "        return self.model(x)\n",
    "\n",
    "    def _compute_loss(self, batch, mode):\n",
    "        x, y = batch\n",
    "        if config.task == 'binaryClassif':\n",
    "            y = y.argmax(1)\n",
    "        if isinstance(self.loss_function, nn.BCEWithLogitsLoss) or isinstance(self.loss_function, nn.MSELoss):\n",
    "            y = y.unsqueeze(1).float()\n",
    "        y_hat = self(x)\n",
    "        loss = self.loss_function(y_hat, y)\n",
    "        if isinstance(self.loss_function, nn.BCEWithLogitsLoss):\n",
    "            acc = (torch.sigmoid(y_hat).round() == y).sum() / y.shape[0]\n",
    "        elif isinstance(self.loss_function, nn.CrossEntropyLoss):\n",
    "            acc = (y_hat.argmax(dim=1) == y).sum() / y.shape[0]\n",
    "        self.log(f\"{mode}_loss\", loss)\n",
    "        if 'acc' in locals(): self.log(f\"{mode}_acc\", acc)\n",
    "        return loss\n",
    "\n",
    "    def training_step(self, batch, batch_idx):\n",
    "        loss = self._compute_loss(batch, mode='train')\n",
    "        return loss\n",
    "\n",
    "    def validation_step(self, batch, batch_idx):\n",
    "        self._compute_loss(batch, mode='val')\n"
   ]
  },
  {
   "cell_type": "code",
   "execution_count": 10,
   "id": "a84e05a7",
   "metadata": {},
   "outputs": [
    {
     "data": {
      "text/plain": [
       "[5515, 11359, 16507, 8]"
      ]
     },
     "execution_count": 10,
     "metadata": {},
     "output_type": "execute_result"
    }
   ],
   "source": [
    "def get_freer_gpu():\n",
    "    os.system('nvidia-smi -q -d Memory |grep -A4 GPU|grep Free >tmp')\n",
    "    memory_available = [int(x.split()[2]) for x in open('tmp', 'r').readlines()]\n",
    "    return np.argmax(memory_available)\n",
    "\n",
    "os.system('nvidia-smi -q -d Memory |grep -A4 GPU|grep Used >tmp')\n",
    "[int(x.split()[2]) for x in open('tmp', 'r').readlines()]"
   ]
  },
  {
   "cell_type": "code",
   "execution_count": 7,
   "id": "de72a52d",
   "metadata": {},
   "outputs": [
    {
     "name": "stdout",
     "output_type": "stream",
     "text": [
      "ResNet_pretrained - MSELoss\n"
     ]
    },
    {
     "name": "stderr",
     "output_type": "stream",
     "text": [
      "GPU available: True (cuda), used: True\n",
      "TPU available: False, using: 0 TPU cores\n",
      "IPU available: False, using: 0 IPUs\n",
      "HPU available: False, using: 0 HPUs\n",
      "LOCAL_RANK: 0 - CUDA_VISIBLE_DEVICES: [0,1,2,3]\n",
      "\n",
      "  | Name          | Type                | Params\n",
      "------------------------------------------------------\n",
      "0 | loss_function | MSELoss             | 0     \n",
      "1 | preprocess    | ImageClassification | 0     \n",
      "2 | model         | ResNet              | 11.2 M\n",
      "------------------------------------------------------\n",
      "11.2 M    Trainable params\n",
      "0         Non-trainable params\n",
      "11.2 M    Total params\n",
      "44.708    Total estimated model params size (MB)\n"
     ]
    },
    {
     "data": {
      "application/vnd.jupyter.widget-view+json": {
       "model_id": "b245087f4fe240feba46643706f532c1",
       "version_major": 2,
       "version_minor": 0
      },
      "text/plain": [
       "Sanity Checking: 0it [00:00, ?it/s]"
      ]
     },
     "metadata": {},
     "output_type": "display_data"
    },
    {
     "name": "stderr",
     "output_type": "stream",
     "text": [
      "/d/alecoz/miniconda3/envs/torch/lib/python3.9/site-packages/pytorch_lightning/trainer/connectors/data_connector.py:489: PossibleUserWarning: Your `val_dataloader`'s sampler has shuffling enabled, it is strongly recommended that you turn shuffling off for val/test/predict dataloaders.\n",
      "  rank_zero_warn(\n",
      "/d/alecoz/miniconda3/envs/torch/lib/python3.9/site-packages/pytorch_lightning/trainer/connectors/data_connector.py:236: PossibleUserWarning: The dataloader, val_dataloader 0, does not have many workers which may be a bottleneck. Consider increasing the value of the `num_workers` argument` (try 64 which is the number of cpus on this machine) in the `DataLoader` init to improve performance.\n",
      "  rank_zero_warn(\n",
      "/d/alecoz/miniconda3/envs/torch/lib/python3.9/site-packages/pytorch_lightning/trainer/connectors/data_connector.py:236: PossibleUserWarning: The dataloader, train_dataloader, does not have many workers which may be a bottleneck. Consider increasing the value of the `num_workers` argument` (try 64 which is the number of cpus on this machine) in the `DataLoader` init to improve performance.\n",
      "  rank_zero_warn(\n"
     ]
    },
    {
     "data": {
      "application/vnd.jupyter.widget-view+json": {
       "model_id": "7399fc5ceb914220ae2432a2a39f7fe7",
       "version_major": 2,
       "version_minor": 0
      },
      "text/plain": [
       "Training: 0it [00:00, ?it/s]"
      ]
     },
     "metadata": {},
     "output_type": "display_data"
    },
    {
     "data": {
      "application/vnd.jupyter.widget-view+json": {
       "model_id": "4d157542bb46499596f7445aa9f24e98",
       "version_major": 2,
       "version_minor": 0
      },
      "text/plain": [
       "Validation: 0it [00:00, ?it/s]"
      ]
     },
     "metadata": {},
     "output_type": "display_data"
    },
    {
     "data": {
      "application/vnd.jupyter.widget-view+json": {
       "model_id": "9eaa9cd4eaf146a5b0c98263e95437d8",
       "version_major": 2,
       "version_minor": 0
      },
      "text/plain": [
       "Validation: 0it [00:00, ?it/s]"
      ]
     },
     "metadata": {},
     "output_type": "display_data"
    },
    {
     "data": {
      "application/vnd.jupyter.widget-view+json": {
       "model_id": "6237f7ca500b42428ef1904f2835c48b",
       "version_major": 2,
       "version_minor": 0
      },
      "text/plain": [
       "Validation: 0it [00:00, ?it/s]"
      ]
     },
     "metadata": {},
     "output_type": "display_data"
    },
    {
     "data": {
      "application/vnd.jupyter.widget-view+json": {
       "model_id": "4a41894ee9c847cf958aa2ed211f9e2c",
       "version_major": 2,
       "version_minor": 0
      },
      "text/plain": [
       "Validation: 0it [00:00, ?it/s]"
      ]
     },
     "metadata": {},
     "output_type": "display_data"
    },
    {
     "data": {
      "application/vnd.jupyter.widget-view+json": {
       "model_id": "97d3088761694a11b8aca078c029344a",
       "version_major": 2,
       "version_minor": 0
      },
      "text/plain": [
       "Validation: 0it [00:00, ?it/s]"
      ]
     },
     "metadata": {},
     "output_type": "display_data"
    },
    {
     "data": {
      "application/vnd.jupyter.widget-view+json": {
       "model_id": "f7b2c93366654c97ac47d25c6eb99ed5",
       "version_major": 2,
       "version_minor": 0
      },
      "text/plain": [
       "Validation: 0it [00:00, ?it/s]"
      ]
     },
     "metadata": {},
     "output_type": "display_data"
    },
    {
     "data": {
      "application/vnd.jupyter.widget-view+json": {
       "model_id": "be571240f3f043c6bad57b00d23649fc",
       "version_major": 2,
       "version_minor": 0
      },
      "text/plain": [
       "Validation: 0it [00:00, ?it/s]"
      ]
     },
     "metadata": {},
     "output_type": "display_data"
    },
    {
     "data": {
      "application/vnd.jupyter.widget-view+json": {
       "model_id": "16f6e979ac30455a9f3319fa48b6b238",
       "version_major": 2,
       "version_minor": 0
      },
      "text/plain": [
       "Validation: 0it [00:00, ?it/s]"
      ]
     },
     "metadata": {},
     "output_type": "display_data"
    },
    {
     "data": {
      "application/vnd.jupyter.widget-view+json": {
       "model_id": "f976e11d9a524a09868b73fba499e2f5",
       "version_major": 2,
       "version_minor": 0
      },
      "text/plain": [
       "Validation: 0it [00:00, ?it/s]"
      ]
     },
     "metadata": {},
     "output_type": "display_data"
    },
    {
     "data": {
      "application/vnd.jupyter.widget-view+json": {
       "model_id": "d2a558a2f2b7416284751a777af80ce0",
       "version_major": 2,
       "version_minor": 0
      },
      "text/plain": [
       "Validation: 0it [00:00, ?it/s]"
      ]
     },
     "metadata": {},
     "output_type": "display_data"
    },
    {
     "data": {
      "application/vnd.jupyter.widget-view+json": {
       "model_id": "359d7a4512104a7c9b965c5f49f7e498",
       "version_major": 2,
       "version_minor": 0
      },
      "text/plain": [
       "Validation: 0it [00:00, ?it/s]"
      ]
     },
     "metadata": {},
     "output_type": "display_data"
    },
    {
     "data": {
      "application/vnd.jupyter.widget-view+json": {
       "model_id": "d188951a0ed24365b9a02e110a52627e",
       "version_major": 2,
       "version_minor": 0
      },
      "text/plain": [
       "Validation: 0it [00:00, ?it/s]"
      ]
     },
     "metadata": {},
     "output_type": "display_data"
    },
    {
     "data": {
      "application/vnd.jupyter.widget-view+json": {
       "model_id": "b0f9b0d102ef4080be232f71439bddc4",
       "version_major": 2,
       "version_minor": 0
      },
      "text/plain": [
       "Validation: 0it [00:00, ?it/s]"
      ]
     },
     "metadata": {},
     "output_type": "display_data"
    },
    {
     "data": {
      "application/vnd.jupyter.widget-view+json": {
       "model_id": "1b60162444d447c9a25ecde46e55f718",
       "version_major": 2,
       "version_minor": 0
      },
      "text/plain": [
       "Validation: 0it [00:00, ?it/s]"
      ]
     },
     "metadata": {},
     "output_type": "display_data"
    },
    {
     "data": {
      "application/vnd.jupyter.widget-view+json": {
       "model_id": "7327cff0055f4d6d9f7ac96b9b0c9352",
       "version_major": 2,
       "version_minor": 0
      },
      "text/plain": [
       "Validation: 0it [00:00, ?it/s]"
      ]
     },
     "metadata": {},
     "output_type": "display_data"
    },
    {
     "data": {
      "application/vnd.jupyter.widget-view+json": {
       "model_id": "02006ff56eb544788b6934baa9360ce6",
       "version_major": 2,
       "version_minor": 0
      },
      "text/plain": [
       "Validation: 0it [00:00, ?it/s]"
      ]
     },
     "metadata": {},
     "output_type": "display_data"
    },
    {
     "data": {
      "application/vnd.jupyter.widget-view+json": {
       "model_id": "8f9d29460fd54b87b2be1dcb4f33b8bb",
       "version_major": 2,
       "version_minor": 0
      },
      "text/plain": [
       "Validation: 0it [00:00, ?it/s]"
      ]
     },
     "metadata": {},
     "output_type": "display_data"
    },
    {
     "data": {
      "application/vnd.jupyter.widget-view+json": {
       "model_id": "28cc6eb9667d4075b844210aa300193f",
       "version_major": 2,
       "version_minor": 0
      },
      "text/plain": [
       "Validation: 0it [00:00, ?it/s]"
      ]
     },
     "metadata": {},
     "output_type": "display_data"
    },
    {
     "data": {
      "application/vnd.jupyter.widget-view+json": {
       "model_id": "d2eea299e558405eaa64049ceecd8089",
       "version_major": 2,
       "version_minor": 0
      },
      "text/plain": [
       "Validation: 0it [00:00, ?it/s]"
      ]
     },
     "metadata": {},
     "output_type": "display_data"
    },
    {
     "data": {
      "application/vnd.jupyter.widget-view+json": {
       "model_id": "eaa77c1456544e0b8f66939b19487428",
       "version_major": 2,
       "version_minor": 0
      },
      "text/plain": [
       "Validation: 0it [00:00, ?it/s]"
      ]
     },
     "metadata": {},
     "output_type": "display_data"
    },
    {
     "data": {
      "application/vnd.jupyter.widget-view+json": {
       "model_id": "17b76bbbe70f4697bc40a6440073634a",
       "version_major": 2,
       "version_minor": 0
      },
      "text/plain": [
       "Validation: 0it [00:00, ?it/s]"
      ]
     },
     "metadata": {},
     "output_type": "display_data"
    },
    {
     "data": {
      "application/vnd.jupyter.widget-view+json": {
       "model_id": "8abbeaa7dc8c40ff9b0519749e149e5b",
       "version_major": 2,
       "version_minor": 0
      },
      "text/plain": [
       "Validation: 0it [00:00, ?it/s]"
      ]
     },
     "metadata": {},
     "output_type": "display_data"
    },
    {
     "data": {
      "application/vnd.jupyter.widget-view+json": {
       "model_id": "d8ed36a7605248da889e73e2f4151dca",
       "version_major": 2,
       "version_minor": 0
      },
      "text/plain": [
       "Validation: 0it [00:00, ?it/s]"
      ]
     },
     "metadata": {},
     "output_type": "display_data"
    },
    {
     "data": {
      "application/vnd.jupyter.widget-view+json": {
       "model_id": "2acf387991a44e6c87846551bbb420d6",
       "version_major": 2,
       "version_minor": 0
      },
      "text/plain": [
       "Validation: 0it [00:00, ?it/s]"
      ]
     },
     "metadata": {},
     "output_type": "display_data"
    },
    {
     "data": {
      "application/vnd.jupyter.widget-view+json": {
       "model_id": "f084bcfa684a43cc865c36ae6a9cd645",
       "version_major": 2,
       "version_minor": 0
      },
      "text/plain": [
       "Validation: 0it [00:00, ?it/s]"
      ]
     },
     "metadata": {},
     "output_type": "display_data"
    },
    {
     "data": {
      "application/vnd.jupyter.widget-view+json": {
       "model_id": "8dc45f8fcab8406cb25ad6fc9b7a6ac0",
       "version_major": 2,
       "version_minor": 0
      },
      "text/plain": [
       "Validation: 0it [00:00, ?it/s]"
      ]
     },
     "metadata": {},
     "output_type": "display_data"
    },
    {
     "data": {
      "application/vnd.jupyter.widget-view+json": {
       "model_id": "56902cf4e6b44750b906b6222ebdc656",
       "version_major": 2,
       "version_minor": 0
      },
      "text/plain": [
       "Validation: 0it [00:00, ?it/s]"
      ]
     },
     "metadata": {},
     "output_type": "display_data"
    },
    {
     "data": {
      "application/vnd.jupyter.widget-view+json": {
       "model_id": "91054fcec789411f985dd0b296ae3dd1",
       "version_major": 2,
       "version_minor": 0
      },
      "text/plain": [
       "Validation: 0it [00:00, ?it/s]"
      ]
     },
     "metadata": {},
     "output_type": "display_data"
    },
    {
     "data": {
      "application/vnd.jupyter.widget-view+json": {
       "model_id": "87b56c4cb73740ad86af4435fca55e3f",
       "version_major": 2,
       "version_minor": 0
      },
      "text/plain": [
       "Validation: 0it [00:00, ?it/s]"
      ]
     },
     "metadata": {},
     "output_type": "display_data"
    },
    {
     "data": {
      "application/vnd.jupyter.widget-view+json": {
       "model_id": "f44c6a5c4bdc41edb1430828e5c62440",
       "version_major": 2,
       "version_minor": 0
      },
      "text/plain": [
       "Validation: 0it [00:00, ?it/s]"
      ]
     },
     "metadata": {},
     "output_type": "display_data"
    },
    {
     "name": "stderr",
     "output_type": "stream",
     "text": [
      "`Trainer.fit` stopped: `max_epochs=30` reached.\n"
     ]
    }
   ],
   "source": [
    "if config.task == 'binaryClassif':\n",
    "    # loss_name = 'CrossEntropyLoss'\n",
    "    loss_name = 'BCEWithLogitsLoss'\n",
    "elif config.task == 'trueClassProba':\n",
    "    loss_name = 'MSELoss'\n",
    "\n",
    "\n",
    "print(f'{config.model } - {loss_name}')\n",
    "\n",
    "timestamp = datetime.now().strftime(\"%Y%m%d-%H%M%S\")\n",
    "logger = TensorBoardLogger(save_dir=Path.cwd().parent / 'lightning_logs', \n",
    "                        name='learn_classifier_correctness', version=f'{config.model}_{loss_name}_{timestamp}')\n",
    "trainer = pl.Trainer(max_epochs=30, accelerator=\"gpu\", devices=1, logger=logger)\n",
    "model = Model(config.model, loss_name)\n",
    "trainer.fit(model, train_dataloaders=train_dataloader, val_dataloaders=test_dataloader)\n"
   ]
  },
  {
   "cell_type": "code",
   "execution_count": null,
   "id": "318255c9",
   "metadata": {},
   "outputs": [],
   "source": []
  }
 ],
 "metadata": {
  "kernelspec": {
   "display_name": "Python 3.9.13 ('torch')",
   "language": "python",
   "name": "python3"
  },
  "language_info": {
   "codemirror_mode": {
    "name": "ipython",
    "version": 3
   },
   "file_extension": ".py",
   "mimetype": "text/x-python",
   "name": "python",
   "nbconvert_exporter": "python",
   "pygments_lexer": "ipython3",
   "version": "3.9.13"
  },
  "vscode": {
   "interpreter": {
    "hash": "d98911e8e1829f7f6c5e31f61dda5e143049f52824dab13c60371001bf774251"
   }
  }
 },
 "nbformat": 4,
 "nbformat_minor": 5
}
